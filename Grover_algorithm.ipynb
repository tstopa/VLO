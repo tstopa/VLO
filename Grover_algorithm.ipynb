{
 "cells": [
  {
   "cell_type": "markdown",
   "metadata": {},
   "source": [
    "# Grover's algorithm"
   ]
  },
  {
   "cell_type": "markdown",
   "metadata": {},
   "source": [
    "References for Grover algorithm:\n",
    "    \n",
    "[Qiskit text book on Grover algorithm](https://learn.qiskit.org/course/introduction/grovers-search-algorithm)"
   ]
  },
  {
   "cell_type": "markdown",
   "metadata": {},
   "source": [
    "* analogy of phone book and looking for name having phone number - unstructured search (for structured/sorted databased binary search has logaritmic complexity, so good enough)\n",
    "* $\\sqrt{N}$ complexity so **quadratic improvement** over classical algorithm (simply going one by one and checking)\n",
    "* If we can make a problem look like a database search problem, then we can use Grover algorithm to solve it => quite generic algorithm.\n",
    "* Examples:\n",
    "    * looking for Sudoku solution\n",
    "    * Boolean satisfiability problem (known as 'SAT')"
   ]
  },
  {
   "cell_type": "markdown",
   "metadata": {},
   "source": [
    "### Let's explore a 3 qubit example (8 possible states) with our winner (searched item) being $|110>$ = $|6>$:"
   ]
  },
  {
   "cell_type": "code",
   "execution_count": 1,
   "metadata": {},
   "outputs": [
    {
     "data": {
      "text/html": [
       "<pre style=\"word-wrap: normal;white-space: pre;background: #fff0;line-height: 1.1;font-family: &quot;Courier New&quot;,Courier,monospace\">     ┌───┐     ┌───┐\n",
       "q_0: ┤ X ├──■──┤ X ├\n",
       "     └───┘  │  └───┘\n",
       "q_1: ───────■───────\n",
       "     ┌───┐┌─┴─┐┌───┐\n",
       "q_2: ┤ H ├┤ X ├┤ H ├\n",
       "     └───┘└───┘└───┘</pre>"
      ],
      "text/plain": [
       "     ┌───┐     ┌───┐\n",
       "q_0: ┤ X ├──■──┤ X ├\n",
       "     └───┘  │  └───┘\n",
       "q_1: ───────■───────\n",
       "     ┌───┐┌─┴─┐┌───┐\n",
       "q_2: ┤ H ├┤ X ├┤ H ├\n",
       "     └───┘└───┘└───┘"
      ]
     },
     "execution_count": 1,
     "metadata": {},
     "output_type": "execute_result"
    }
   ],
   "source": [
    "from qiskit import *\n",
    "\n",
    "oracle = QuantumCircuit(3, name=\"oracle\")\n",
    "oracle.x(0)\n",
    "oracle.h(2)\n",
    "oracle.ccx(0,1,2)\n",
    "oracle.x(0)\n",
    "oracle.h(2)\n",
    "\n",
    "oracle.draw()"
   ]
  },
  {
   "cell_type": "code",
   "execution_count": 2,
   "metadata": {},
   "outputs": [
    {
     "data": {
      "text/latex": [
       "$$ |101\\rangle$$"
      ],
      "text/plain": [
       "<IPython.core.display.Latex object>"
      ]
     },
     "execution_count": 2,
     "metadata": {},
     "output_type": "execute_result"
    }
   ],
   "source": [
    "from qiskit.quantum_info import Statevector\n",
    "\n",
    "state = Statevector.from_int(5, 2**3)\n",
    "state = state.evolve(oracle)\n",
    "state.draw('latex')"
   ]
  },
  {
   "cell_type": "code",
   "execution_count": 3,
   "metadata": {},
   "outputs": [
    {
     "data": {
      "text/html": [
       "<pre style=\"word-wrap: normal;white-space: pre;background: #fff0;line-height: 1.1;font-family: &quot;Courier New&quot;,Courier,monospace\">     ┌───┐┌───┐ ░                 ░ ┌───┐┌───┐\n",
       "q_0: ┤ H ├┤ X ├─░────────■────────░─┤ X ├┤ H ├\n",
       "     ├───┤├───┤ ░        │        ░ ├───┤├───┤\n",
       "q_1: ┤ H ├┤ X ├─░────────■────────░─┤ X ├┤ H ├\n",
       "     ├───┤├───┤ ░ ┌───┐┌─┴─┐┌───┐ ░ ├───┤├───┤\n",
       "q_2: ┤ H ├┤ X ├─░─┤ H ├┤ X ├┤ H ├─░─┤ X ├┤ H ├\n",
       "     └───┘└───┘ ░ └───┘└───┘└───┘ ░ └───┘└───┘</pre>"
      ],
      "text/plain": [
       "     ┌───┐┌───┐ ░                 ░ ┌───┐┌───┐\n",
       "q_0: ┤ H ├┤ X ├─░────────■────────░─┤ X ├┤ H ├\n",
       "     ├───┤├───┤ ░        │        ░ ├───┤├───┤\n",
       "q_1: ┤ H ├┤ X ├─░────────■────────░─┤ X ├┤ H ├\n",
       "     ├───┤├───┤ ░ ┌───┐┌─┴─┐┌───┐ ░ ├───┤├───┤\n",
       "q_2: ┤ H ├┤ X ├─░─┤ H ├┤ X ├┤ H ├─░─┤ X ├┤ H ├\n",
       "     └───┘└───┘ ░ └───┘└───┘└───┘ ░ └───┘└───┘"
      ]
     },
     "execution_count": 3,
     "metadata": {},
     "output_type": "execute_result"
    }
   ],
   "source": [
    "diffuser = QuantumCircuit(3, name=\"diffuser\")\n",
    "diffuser.h([0,1,2])\n",
    "diffuser.x([0,1,2])\n",
    "diffuser.barrier()\n",
    "diffuser.h(2)\n",
    "diffuser.ccx(0,1,2)\n",
    "diffuser.h(2)\n",
    "diffuser.barrier()\n",
    "diffuser.x([0,1,2])\n",
    "diffuser.h([0,1,2])\n",
    "diffuser.draw()"
   ]
  },
  {
   "cell_type": "code",
   "execution_count": 4,
   "metadata": {},
   "outputs": [
    {
     "data": {
      "text/html": [
       "<pre style=\"word-wrap: normal;white-space: pre;background: #fff0;line-height: 1.1;font-family: &quot;Courier New&quot;,Courier,monospace\">     ┌───┐┌─────────┐┌───────────┐┌─┐      \n",
       "q_0: ┤ H ├┤0        ├┤0          ├┤M├──────\n",
       "     ├───┤│         ││           │└╥┘┌─┐   \n",
       "q_1: ┤ H ├┤1 oracle ├┤1 diffuser ├─╫─┤M├───\n",
       "     ├───┤│         ││           │ ║ └╥┘┌─┐\n",
       "q_2: ┤ H ├┤2        ├┤2          ├─╫──╫─┤M├\n",
       "     └───┘└─────────┘└───────────┘ ║  ║ └╥┘\n",
       "c: 3/══════════════════════════════╩══╩══╩═\n",
       "                                   0  1  2 </pre>"
      ],
      "text/plain": [
       "     ┌───┐┌─────────┐┌───────────┐┌─┐      \n",
       "q_0: ┤ H ├┤0        ├┤0          ├┤M├──────\n",
       "     ├───┤│         ││           │└╥┘┌─┐   \n",
       "q_1: ┤ H ├┤1 oracle ├┤1 diffuser ├─╫─┤M├───\n",
       "     ├───┤│         ││           │ ║ └╥┘┌─┐\n",
       "q_2: ┤ H ├┤2        ├┤2          ├─╫──╫─┤M├\n",
       "     └───┘└─────────┘└───────────┘ ║  ║ └╥┘\n",
       "c: 3/══════════════════════════════╩══╩══╩═\n",
       "                                   0  1  2 "
      ]
     },
     "execution_count": 4,
     "metadata": {},
     "output_type": "execute_result"
    }
   ],
   "source": [
    "grover = QuantumCircuit(3, 3)\n",
    "grover.h([0,1,2])\n",
    "grover.append(oracle, [0,1,2])\n",
    "grover.append(diffuser, [0,1,2])\n",
    "grover.measure([0,1,2], [0,1,2])\n",
    "\n",
    "grover.draw()"
   ]
  },
  {
   "cell_type": "code",
   "execution_count": 5,
   "metadata": {},
   "outputs": [
    {
     "name": "stdout",
     "output_type": "stream",
     "text": [
      "2\n"
     ]
    }
   ],
   "source": [
    "import math\n",
    "\n",
    "num_iterations = round(math.pi* math.sqrt(8)/4)\n",
    "print(num_iterations)\n"
   ]
  },
  {
   "cell_type": "code",
   "execution_count": 6,
   "metadata": {},
   "outputs": [
    {
     "name": "stderr",
     "output_type": "stream",
     "text": [
      "C:\\Users\\P39686820\\AppData\\Local\\Temp\\ipykernel_34048\\224664514.py:18: DeprecationWarning: The class ``qiskit.primitives.sampler.Sampler`` is deprecated as of qiskit 1.2. It will be removed no earlier than 3 months after the release date. All implementations of the `BaseSamplerV1` interface have been deprecated in favor of their V2 counterparts. The V2 alternative for the `Sampler` class is `StatevectorSampler`.\n",
      "  sampler = Sampler()\n"
     ]
    },
    {
     "data": {
      "image/png": "[encoded data removed]",
      "text/plain": [
       "<Figure size 640x480 with 1 Axes>"
      ]
     },
     "execution_count": 6,
     "metadata": {},
     "output_type": "execute_result"
    }
   ],
   "source": [
    "from qiskit.providers.basic_provider import BasicSimulator\n",
    "from qiskit.visualization import plot_histogram\n",
    "from qiskit.primitives import Sampler\n",
    "from qiskit import transpile\n",
    "\n",
    "grover = QuantumCircuit(3, 3)\n",
    "grover.h([0,1,2])\n",
    "\n",
    "for i in range(num_iterations):\n",
    "    grover.append(oracle, [0,1,2])\n",
    "    grover.append(diffuser, [0,1,2])\n",
    "\n",
    "grover.measure([0,1,2], [0,1,2])\n",
    "\n",
    "backend = BasicSimulator()\n",
    "grover_transpiled = transpile(grover, backend)\n",
    "\n",
    "sampler = Sampler()\n",
    "job = sampler.run(grover_transpiled, shots=1024)\n",
    "counts = job.result().quasi_dists[0]\n",
    "plot_histogram(counts)"
   ]
  },
  {
   "cell_type": "markdown",
   "metadata": {},
   "source": [
    "## Exercise:\n",
    "Construct analogical Grover circuit to look for state $|101>$"
   ]
  },
  {
   "cell_type": "markdown",
   "metadata": {},
   "source": [
    "## Exercise:\n",
    "* Construct Grover circuit looking for state |1001> out of 16 possible 4-qubit states.\n",
    "* Hint: to construct oracle and diffuser you can use mct() (multi-controlled-toffoli) gate in Qiskit.\n",
    "* What is the optimal number of Grover iterations?"
   ]
  },
  {
   "cell_type": "markdown",
   "metadata": {},
   "source": [
    "# Qiskit provides us a ready implementation of Grover algorithm, so you need only the oracle ;)\n",
    "More here: https://qiskit.org/documentation/tutorials/algorithms/06_grover.html"
   ]
  },
  {
   "cell_type": "code",
   "execution_count": 7,
   "metadata": {},
   "outputs": [],
   "source": [
    "good_state = ['110']"
   ]
  },
  {
   "cell_type": "code",
   "execution_count": 8,
   "metadata": {},
   "outputs": [
    {
     "name": "stdout",
     "output_type": "stream",
     "text": [
      "Top measurement: 110\n",
      "optimal_num_iterations: 2\n"
     ]
    },
    {
     "name": "stderr",
     "output_type": "stream",
     "text": [
      "C:\\Users\\P39686820\\AppData\\Local\\Temp\\ipykernel_34048\\2718014903.py:6: DeprecationWarning: The class ``qiskit.primitives.sampler.Sampler`` is deprecated as of qiskit 1.2. It will be removed no earlier than 3 months after the release date. All implementations of the `BaseSamplerV1` interface have been deprecated in favor of their V2 counterparts. The V2 alternative for the `Sampler` class is `StatevectorSampler`.\n",
      "  grover = Grover(sampler=Sampler(), iterations=num_iterations)\n"
     ]
    },
    {
     "data": {
      "image/png": "[encoded data removed]",
      "text/plain": [
       "<Figure size 640x480 with 1 Axes>"
      ]
     },
     "execution_count": 8,
     "metadata": {},
     "output_type": "execute_result"
    }
   ],
   "source": [
    "from qiskit_algorithms import Grover, AmplificationProblem\n",
    "from qiskit.primitives import Sampler\n",
    " \n",
    "\n",
    "problem = AmplificationProblem(oracle=oracle, is_good_state=good_state)\n",
    "grover = Grover(sampler=Sampler(), iterations=num_iterations)\n",
    "result = grover.amplify(problem)\n",
    "print('Top measurement:', result.top_measurement)\n",
    "print('optimal_num_iterations:', grover.optimal_num_iterations(1, 3)) #1=number of solutions, 3=num qubits\n",
    "plot_histogram(result.circuit_results)"
   ]
  },
  {
   "cell_type": "markdown",
   "metadata": {},
   "source": [
    "The results obtained is of type `GroverResult`:"
   ]
  },
  {
   "cell_type": "code",
   "execution_count": 21,
   "metadata": {},
   "outputs": [
    {
     "name": "stdout",
     "output_type": "stream",
     "text": [
      "{   'assignment': '110',\n",
      "    'circuit_results': [   {   '000': 0.0078125,\n",
      "                               '001': 0.0078125,\n",
      "                               '010': 0.0078125,\n",
      "                               '011': 0.0078125,\n",
      "                               '100': 0.0078125,\n",
      "                               '101': 0.0078125,\n",
      "                               '110': 0.945312499999996,\n",
      "                               '111': 0.0078125}],\n",
      "    'iterations': [2],\n",
      "    'max_probability': 0.945312499999996,\n",
      "    'oracle_evaluation': True,\n",
      "    'top_measurement': '110'}\n"
     ]
    }
   ],
   "source": [
    "print(result)"
   ]
  },
  {
   "cell_type": "markdown",
   "metadata": {},
   "source": [
    "* `oracle` can be a QuantumCircuit object is the oracle is provided in this form\n",
    "* then the `is_good_state` function needs to be implemented and provided "
   ]
  },
  {
   "cell_type": "markdown",
   "metadata": {},
   "source": [
    "And even simpler method using Statevector (no need to be able to construct the oracle)"
   ]
  },
  {
   "cell_type": "code",
   "execution_count": 9,
   "metadata": {},
   "outputs": [
    {
     "name": "stdout",
     "output_type": "stream",
     "text": [
      "Top measurement: 110\n"
     ]
    }
   ],
   "source": [
    "oracle = Statevector.from_label('110')\n",
    "problem = AmplificationProblem(oracle, is_good_state=['110'])\n",
    "result = grover.amplify(problem)\n",
    "print('Top measurement:', result.top_measurement)"
   ]
  }
 ],
 "metadata": {
  "kernelspec": {
   "display_name": "Python 3 (ipykernel)",
   "language": "python",
   "name": "python3"
  },
  "language_info": {
   "codemirror_mode": {
    "name": "ipython",
    "version": 3
   },
   "file_extension": ".py",
   "mimetype": "text/x-python",
   "name": "python",
   "nbconvert_exporter": "python",
   "pygments_lexer": "ipython3",
   "version": "3.11.4"
  }
 },
 "nbformat": 4,
 "nbformat_minor": 4
}
